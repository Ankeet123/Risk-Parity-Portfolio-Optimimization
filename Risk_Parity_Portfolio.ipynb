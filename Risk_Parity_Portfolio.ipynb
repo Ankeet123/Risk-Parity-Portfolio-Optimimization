{
  "nbformat": 4,
  "nbformat_minor": 0,
  "metadata": {
    "colab": {
      "provenance": []
    },
    "kernelspec": {
      "name": "python3",
      "display_name": "Python 3"
    },
    "language_info": {
      "name": "python"
    }
  },
  "cells": [
    {
      "cell_type": "code",
      "execution_count": 1,
      "metadata": {
        "colab": {
          "base_uri": "https://localhost:8080/"
        },
        "id": "dGANrdFPdqRM",
        "outputId": "93937b8b-6927-4e40-ed1b-73074e14e9f0"
      },
      "outputs": [
        {
          "output_type": "stream",
          "name": "stdout",
          "text": [
            "Requirement already satisfied: scipy in /usr/local/lib/python3.10/dist-packages (1.11.4)\n",
            "Requirement already satisfied: numpy<1.28.0,>=1.21.6 in /usr/local/lib/python3.10/dist-packages (from scipy) (1.25.2)\n"
          ]
        }
      ],
      "source": [
        "!pip install scipy\n",
        "import pandas as pd\n",
        "import numpy as np\n",
        "import yfinance as yf\n",
        "from scipy.optimize import minimize # Import the minimize function\n",
        "\n"
      ]
    },
    {
      "cell_type": "code",
      "source": [
        "msft = yf.download(tickers='MSFT', period='1mo')\n",
        "lly = yf.download(tickers='LLY', period='1mo')\n",
        "cvx = yf.download(tickers='CVX', period='1mo')\n",
        "aapl = yf.download(tickers='AAPL', period='1mo')\n",
        "bhp = yf.download(tickers='BHP', period='1mo')\n"
      ],
      "metadata": {
        "colab": {
          "base_uri": "https://localhost:8080/"
        },
        "id": "KnWaFeg_d6NC",
        "outputId": "d1f53f0e-05dd-4c6b-d35c-669d09a4864f"
      },
      "execution_count": 2,
      "outputs": [
        {
          "output_type": "stream",
          "name": "stderr",
          "text": [
            "[*********************100%%**********************]  1 of 1 completed\n",
            "[*********************100%%**********************]  1 of 1 completed\n",
            "[*********************100%%**********************]  1 of 1 completed\n",
            "[*********************100%%**********************]  1 of 1 completed\n",
            "[*********************100%%**********************]  1 of 1 completed\n"
          ]
        }
      ]
    },
    {
      "cell_type": "code",
      "source": [
        "msft['Return'] = msft['Adj Close'].pct_change()\n",
        "lly['Return'] = lly['Adj Close'].pct_change()\n",
        "cvx['Return'] = cvx['Adj Close'].pct_change()\n",
        "aapl['Return'] = aapl['Adj Close'].pct_change()\n",
        "bhp['Return'] = bhp['Adj Close'].pct_change()\n",
        "\n",
        "returns = pd.DataFrame({\n",
        "    'MSFT': msft['Return'],\n",
        "    'LLY': lly['Return'],\n",
        "    'CVX': cvx['Return'],\n",
        "    'AAPL': aapl['Return'],\n",
        "    'BHP': bhp['Return']\n",
        "})\n",
        "\n",
        "# Drop any rows with NaN values\n",
        "returns.dropna(inplace=True)\n",
        "\n",
        "# Calculate the variance-covariance matrix\n",
        "C = returns.cov()\n",
        "\n",
        "print(C)\n"
      ],
      "metadata": {
        "colab": {
          "base_uri": "https://localhost:8080/"
        },
        "id": "niQFpH43fWZh",
        "outputId": "d2f7e125-3944-42ad-8fa8-fa4a6f1070a5"
      },
      "execution_count": 3,
      "outputs": [
        {
          "output_type": "stream",
          "name": "stdout",
          "text": [
            "          MSFT       LLY       CVX      AAPL       BHP\n",
            "MSFT  0.000076  0.000019 -0.000039  0.000108 -0.000003\n",
            "LLY   0.000019  0.000092 -0.000013  0.000012 -0.000033\n",
            "CVX  -0.000039 -0.000013  0.000115 -0.000078  0.000005\n",
            "AAPL  0.000108  0.000012 -0.000078  0.000490 -0.000104\n",
            "BHP  -0.000003 -0.000033  0.000005 -0.000104  0.000182\n"
          ]
        }
      ]
    },
    {
      "cell_type": "code",
      "source": [
        "#METHOD- 1 IMPLEMENTATION\n",
        "\n",
        "w = np.ones(5)/5   #initial guess for weight matrix\n",
        "C = np.array(C)\n",
        "def obj_function(w, C):\n",
        "    P = C @ w\n",
        "    MCR = P/np.sqrt(w.T @ C @ w)\n",
        "    f = 0.0\n",
        "    for i in range(len(w)):\n",
        "        for j in range(len(w)):\n",
        "            f += (w[i] * MCR[i] - w[j] * MCR[j]) ** 2\n",
        "    return f\n",
        "\n",
        "def objective(w):\n",
        "    return obj_function(w, C)\n",
        "\n",
        "# Constraints\n",
        "constraints = (\n",
        "    {'type': 'eq', 'fun': lambda w: np.sum(w) - 1},  # Equality constraint: sum(w) = 1\n",
        "    {'type': 'ineq', 'fun': lambda w: w}             # Inequality constraint: w >= 0\n",
        ")\n",
        "\n",
        "# Bounds\n",
        "bounds = [(0, 1) for _ in range(C.shape[1])]\n",
        "\n",
        "\n",
        "\n",
        "# Optimize\n",
        "result = minimize(objective, w, method='SLSQP', constraints=constraints, bounds=bounds, options={'disp': True})\n",
        "\n",
        "# Optimal weights\n",
        "optimal_weights = result.x\n",
        "\n",
        "print(\"Optimal weights:\", optimal_weights)\n",
        "print(\"Objective function value at optimal weights:\", result.fun)\n",
        "print(\"Success:\", result.success)\n",
        "print(\"Message:\", result.message)"
      ],
      "metadata": {
        "colab": {
          "base_uri": "https://localhost:8080/"
        },
        "id": "3vI8PTiygAce",
        "outputId": "84e2173e-a102-4b18-b8fe-b73cdce54801"
      },
      "execution_count": 4,
      "outputs": [
        {
          "output_type": "stream",
          "name": "stdout",
          "text": [
            "Optimization terminated successfully    (Exit mode 0)\n",
            "            Current function value: 4.892108513323724e-06\n",
            "            Iterations: 5\n",
            "            Function evaluations: 30\n",
            "            Gradient evaluations: 5\n",
            "Optimal weights: [0.20411886 0.21771817 0.22830818 0.11221609 0.2376387 ]\n",
            "Objective function value at optimal weights: 4.892108513323724e-06\n",
            "Success: True\n",
            "Message: Optimization terminated successfully\n"
          ]
        }
      ]
    },
    {
      "cell_type": "code",
      "source": [
        "#METHOD-2 IMPLEMENTATION\n",
        "w = np.ones(5)/5   #initial guess for weight matrix\n",
        "C = np.array(C)\n",
        "def obj_function(w, C):\n",
        "    return np.sqrt(w.T @ C @ w)\n",
        "\n",
        "\n",
        "def objective(w):\n",
        "    return obj_function(w, C)\n",
        "\n",
        "# Constraints\n",
        "constraints = (\n",
        " {'type': 'ineq', 'fun': lambda w: np.sum(np.log(w)) + 2 },  #I have taken c = -2, you can take other arbitrary constant which gives a feasible soln\n",
        "    {'type': 'ineq', 'fun': lambda w: w}             # Inequality constraint: w >= 0\n",
        ")\n",
        "\n",
        "# Bounds\n",
        "bounds = [(0, 1) for _ in range(C.shape[1])]\n",
        "\n",
        "\n",
        "\n",
        "# Optimize\n",
        "result = minimize(objective, w, method='SLSQP', constraints=constraints, bounds=bounds, options={'disp': True})\n",
        "\n",
        "# Optimal weights\n",
        "optimal_weights = result.x\n",
        "\n",
        "print(\"Optimal weights:\", optimal_weights)\n",
        "print(\"Objective function value at optimal weights:\", result.fun)\n",
        "print(\"Success:\", result.success)\n",
        "print(\"Message:\", result.message)\n",
        "\n",
        "y = np.array(optimal_weights)\n",
        "#Normalise\n",
        "w = y/np.sum(y)\n",
        "print(w)   #Final weight matrix"
      ],
      "metadata": {
        "colab": {
          "base_uri": "https://localhost:8080/"
        },
        "id": "cIE8F1gILWvO",
        "outputId": "250cec13-4606-4cdf-ff81-3612541f0a51"
      },
      "execution_count": 6,
      "outputs": [
        {
          "output_type": "stream",
          "name": "stdout",
          "text": [
            "Optimization terminated successfully    (Exit mode 0)\n",
            "            Current function value: 0.01503111589719965\n",
            "            Iterations: 16\n",
            "            Function evaluations: 97\n",
            "            Gradient evaluations: 16\n",
            "Optimal weights: [0.66347187 0.81256351 0.94902347 0.37786066 0.70003931]\n",
            "Objective function value at optimal weights: 0.01503111589719965\n",
            "Success: True\n",
            "Message: Optimization terminated successfully\n",
            "[0.18940327 0.23196491 0.27092053 0.107869   0.19984229]\n"
          ]
        }
      ]
    },
    {
      "cell_type": "code",
      "source": [],
      "metadata": {
        "id": "lGpdMw5Qimen"
      },
      "execution_count": null,
      "outputs": []
    }
  ]
}
